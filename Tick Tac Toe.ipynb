{
 "cells": [
  {
   "cell_type": "code",
   "execution_count": 1,
   "id": "f41adb9a",
   "metadata": {},
   "outputs": [],
   "source": [
    "import random\n",
    "# Creating a Tic Tac Toe Game:\n",
    "\n",
    "# Game Display\n",
    "def display_game(board):\n",
    "    print(board[7] + \"|\" + board[8] + \"|\" + board[9])\n",
    "    print(\"-----\")\n",
    "    print(board[4] + \"|\" + board[5] + \"|\" + board[6])\n",
    "    print(\"-----\")\n",
    "    print(board[1] + \"|\" + board[2] + \"|\" + board[3])"
   ]
  },
  {
   "cell_type": "code",
   "execution_count": 2,
   "id": "383d6145",
   "metadata": {},
   "outputs": [],
   "source": [
    "# Asking if the player wants to be X or O\n",
    "def player_input():\n",
    "    playerChoice = 'WRONG'\n",
    "    acceptableChooices = [\"X\", \"O\"]\n",
    "    while playerChoice.upper() not in acceptableChooices:\n",
    "        playerChoice = input(\"Player 1: Do you want to be X or O?\")\n",
    "        if playerChoice.upper() not in acceptableChooices:\n",
    "            print(\"Please enter a valid repsonse.\")\n",
    "    return playerChoice.upper()"
   ]
  },
  {
   "cell_type": "code",
   "execution_count": 3,
   "id": "442becb1",
   "metadata": {},
   "outputs": [],
   "source": [
    "# Placing a marker on the board\n",
    "def place_marker(board, marker, position):\n",
    "    board[position] = marker\n",
    "    return board"
   ]
  },
  {
   "cell_type": "code",
   "execution_count": 4,
   "id": "9159dfac",
   "metadata": {},
   "outputs": [],
   "source": [
    "# Cheking if the player has one or not \n",
    "# Returns a Boolean\n",
    "def win_check(board, mark):\n",
    "    markLocs = []\n",
    "    for i in range(len(board)):\n",
    "        if board[i] == mark:\n",
    "            markLocs.append(i)\n",
    "    for i in markLocs:\n",
    "        if (i+1) in markLocs and (i+2) in markLocs:\n",
    "            print(\"Congradulations you have won the game!\")\n",
    "            return True \n",
    "            break\n",
    "        if (i+3) in markLocs and (i+6) in markLocs:\n",
    "            print(\"Congradulations you have won the game!\")\n",
    "            return True\n",
    "            break\n",
    "        if (i+4) in markLocs and (i+8) in markLocs:\n",
    "            print(\"Congradulations you have won the game!\")\n",
    "            return True\n",
    "        else:\n",
    "            return False"
   ]
  },
  {
   "cell_type": "code",
   "execution_count": 5,
   "id": "51a15bef",
   "metadata": {},
   "outputs": [],
   "source": [
    "# Choosing which player goes first \n",
    "def choose_first():\n",
    "    playerNum = random.randint(1,2)\n",
    "    return playerNum"
   ]
  },
  {
   "cell_type": "code",
   "execution_count": 6,
   "id": "6670e5d4",
   "metadata": {},
   "outputs": [],
   "source": [
    "# Checking if a spot is empty or not \n",
    "# Returns a Boolean\n",
    "def space_check(board, position):\n",
    "    if board[position] == \" \":\n",
    "        return True\n",
    "    else: \n",
    "        return False"
   ]
  },
  {
   "cell_type": "code",
   "execution_count": 7,
   "id": "e129b3e2",
   "metadata": {},
   "outputs": [],
   "source": [
    "# Cheking if the board is full or not \n",
    "# Returns a Boolean\n",
    "def full_board_check(board):\n",
    "    counter = 0\n",
    "    for i in board:\n",
    "        if i != \" \":\n",
    "            counter = counter + 1 \n",
    "    if counter == 10:\n",
    "        return True \n",
    "    else:\n",
    "        return False  "
   ]
  },
  {
   "cell_type": "code",
   "execution_count": 8,
   "id": "57fa70b3",
   "metadata": {},
   "outputs": [],
   "source": [
    "#Asking the player's choice \n",
    "def player_choice(board):\n",
    "    playerChoice = 12\n",
    "    acc = range(1,10)\n",
    "    spaceCheck = False\n",
    "    while (playerChoice not in acc) or (spaceCheck == False):\n",
    "        playerChoice = int(input(\"Enter a position (as a number 1-9): \"))\n",
    "        if playerChoice not in acc:\n",
    "            print(\"Please enter a number from 1-9: \")\n",
    "        if space_check(board, playerChoice) == False:\n",
    "            print(\"Space is already taken\")\n",
    "        if playerChoice in acc:\n",
    "            if space_check(board, playerChoice) == True:\n",
    "                spaceCheck = True\n",
    "    return playerChoice"
   ]
  },
  {
   "cell_type": "code",
   "execution_count": 12,
   "id": "9d192399",
   "metadata": {},
   "outputs": [],
   "source": [
    "# Asking if the player wants to play again \n",
    "def replay():\n",
    "    choice = \"Wrong\"\n",
    "    acc = [\"YES\", \"NO\"]\n",
    "    while choice.upper() not in acc:\n",
    "        choice = input(\"Do you want to play again? (Yes or NO)\")\n",
    "        if choice.upper() not in acc:\n",
    "            print(\"Please enter valid respose\")\n",
    "    if choice.upper() == \"YES\":\n",
    "        return True\n",
    "    else:\n",
    "        return False "
   ]
  },
  {
   "cell_type": "code",
   "execution_count": 14,
   "id": "c2ddf1ce",
   "metadata": {},
   "outputs": [
    {
     "name": "stdout",
     "output_type": "stream",
     "text": [
      "Welcome to Tic Tac Toe: \n",
      "Player 1: Do you want to be X or O?X\n",
      " | | \n",
      "-----\n",
      " | | \n",
      "-----\n",
      " | | \n",
      "Enter a position (as a number 1-9): 1\n",
      " | | \n",
      "-----\n",
      " | | \n",
      "-----\n",
      "X| | \n",
      "Enter a position (as a number 1-9): 2\n",
      " | | \n",
      "-----\n",
      " | | \n",
      "-----\n",
      "X|O| \n",
      "Enter a position (as a number 1-9): 3\n",
      " | | \n",
      "-----\n",
      " | | \n",
      "-----\n",
      "X|O|X\n",
      "Enter a position (as a number 1-9): 4\n",
      " | | \n",
      "-----\n",
      "O| | \n",
      "-----\n",
      "X|O|X\n",
      "Enter a position (as a number 1-9): 5\n",
      " | | \n",
      "-----\n",
      "O|X| \n",
      "-----\n",
      "X|O|X\n",
      "Enter a position (as a number 1-9): 1\n",
      "Space is already taken\n",
      "Enter a position (as a number 1-9): 9\n",
      " | |O\n",
      "-----\n",
      "O|X| \n",
      "-----\n",
      "X|O|X\n",
      "Enter a position (as a number 1-9): 7\n",
      "X| |O\n",
      "-----\n",
      "O|X| \n",
      "-----\n",
      "X|O|X\n",
      "Enter a position (as a number 1-9): 8\n",
      "X|O|O\n",
      "-----\n",
      "O|X| \n",
      "-----\n",
      "X|O|X\n",
      "Enter a position (as a number 1-9): 121212\n",
      "Please enter a number from 1-9: \n"
     ]
    },
    {
     "ename": "IndexError",
     "evalue": "list index out of range",
     "output_type": "error",
     "traceback": [
      "\u001b[0;31m---------------------------------------------------------------------------\u001b[0m",
      "\u001b[0;31mIndexError\u001b[0m                                Traceback (most recent call last)",
      "\u001b[0;32m<ipython-input-14-1155fb345df1>\u001b[0m in \u001b[0;36m<module>\u001b[0;34m\u001b[0m\n\u001b[1;32m      9\u001b[0m \u001b[0mplayerWon\u001b[0m \u001b[0;34m=\u001b[0m \u001b[0;32mFalse\u001b[0m\u001b[0;34m\u001b[0m\u001b[0;34m\u001b[0m\u001b[0m\n\u001b[1;32m     10\u001b[0m \u001b[0;32mwhile\u001b[0m \u001b[0mfull_board_check\u001b[0m\u001b[0;34m(\u001b[0m\u001b[0mtest_board\u001b[0m\u001b[0;34m)\u001b[0m \u001b[0;34m==\u001b[0m \u001b[0;32mFalse\u001b[0m \u001b[0;32mand\u001b[0m \u001b[0;34m(\u001b[0m\u001b[0mplayerWon\u001b[0m \u001b[0;34m==\u001b[0m \u001b[0;32mFalse\u001b[0m\u001b[0;34m)\u001b[0m\u001b[0;34m:\u001b[0m\u001b[0;34m\u001b[0m\u001b[0;34m\u001b[0m\u001b[0m\n\u001b[0;32m---> 11\u001b[0;31m     \u001b[0mplayer1Choice\u001b[0m \u001b[0;34m=\u001b[0m \u001b[0mplayer_choice\u001b[0m\u001b[0;34m(\u001b[0m\u001b[0mtest_board\u001b[0m\u001b[0;34m)\u001b[0m\u001b[0;34m\u001b[0m\u001b[0;34m\u001b[0m\u001b[0m\n\u001b[0m\u001b[1;32m     12\u001b[0m     \u001b[0;32mif\u001b[0m \u001b[0mspace_check\u001b[0m\u001b[0;34m(\u001b[0m\u001b[0mtest_board\u001b[0m\u001b[0;34m,\u001b[0m\u001b[0mplayer1Choice\u001b[0m\u001b[0;34m)\u001b[0m \u001b[0;34m==\u001b[0m \u001b[0;32mTrue\u001b[0m\u001b[0;34m:\u001b[0m\u001b[0;34m\u001b[0m\u001b[0;34m\u001b[0m\u001b[0m\n\u001b[1;32m     13\u001b[0m         \u001b[0mplace_marker\u001b[0m\u001b[0;34m(\u001b[0m\u001b[0mtest_board\u001b[0m\u001b[0;34m,\u001b[0m \u001b[0mplayer1Icon\u001b[0m\u001b[0;34m,\u001b[0m \u001b[0mplayer1Choice\u001b[0m\u001b[0;34m)\u001b[0m\u001b[0;34m\u001b[0m\u001b[0;34m\u001b[0m\u001b[0m\n",
      "\u001b[0;32m<ipython-input-8-1e38ad44a310>\u001b[0m in \u001b[0;36mplayer_choice\u001b[0;34m(board)\u001b[0m\n\u001b[1;32m      8\u001b[0m         \u001b[0;32mif\u001b[0m \u001b[0mplayerChoice\u001b[0m \u001b[0;32mnot\u001b[0m \u001b[0;32min\u001b[0m \u001b[0macc\u001b[0m\u001b[0;34m:\u001b[0m\u001b[0;34m\u001b[0m\u001b[0;34m\u001b[0m\u001b[0m\n\u001b[1;32m      9\u001b[0m             \u001b[0mprint\u001b[0m\u001b[0;34m(\u001b[0m\u001b[0;34m\"Please enter a number from 1-9: \"\u001b[0m\u001b[0;34m)\u001b[0m\u001b[0;34m\u001b[0m\u001b[0;34m\u001b[0m\u001b[0m\n\u001b[0;32m---> 10\u001b[0;31m         \u001b[0;32mif\u001b[0m \u001b[0mspace_check\u001b[0m\u001b[0;34m(\u001b[0m\u001b[0mboard\u001b[0m\u001b[0;34m,\u001b[0m \u001b[0mplayerChoice\u001b[0m\u001b[0;34m)\u001b[0m \u001b[0;34m==\u001b[0m \u001b[0;32mFalse\u001b[0m\u001b[0;34m:\u001b[0m\u001b[0;34m\u001b[0m\u001b[0;34m\u001b[0m\u001b[0m\n\u001b[0m\u001b[1;32m     11\u001b[0m             \u001b[0mprint\u001b[0m\u001b[0;34m(\u001b[0m\u001b[0;34m\"Space is already taken\"\u001b[0m\u001b[0;34m)\u001b[0m\u001b[0;34m\u001b[0m\u001b[0;34m\u001b[0m\u001b[0m\n\u001b[1;32m     12\u001b[0m         \u001b[0;32mif\u001b[0m \u001b[0mplayerChoice\u001b[0m \u001b[0;32min\u001b[0m \u001b[0macc\u001b[0m\u001b[0;34m:\u001b[0m\u001b[0;34m\u001b[0m\u001b[0;34m\u001b[0m\u001b[0m\n",
      "\u001b[0;32m<ipython-input-6-52b048b27aff>\u001b[0m in \u001b[0;36mspace_check\u001b[0;34m(board, position)\u001b[0m\n\u001b[1;32m      2\u001b[0m \u001b[0;31m# Returns a Boolean\u001b[0m\u001b[0;34m\u001b[0m\u001b[0;34m\u001b[0m\u001b[0;34m\u001b[0m\u001b[0m\n\u001b[1;32m      3\u001b[0m \u001b[0;32mdef\u001b[0m \u001b[0mspace_check\u001b[0m\u001b[0;34m(\u001b[0m\u001b[0mboard\u001b[0m\u001b[0;34m,\u001b[0m \u001b[0mposition\u001b[0m\u001b[0;34m)\u001b[0m\u001b[0;34m:\u001b[0m\u001b[0;34m\u001b[0m\u001b[0;34m\u001b[0m\u001b[0m\n\u001b[0;32m----> 4\u001b[0;31m     \u001b[0;32mif\u001b[0m \u001b[0mboard\u001b[0m\u001b[0;34m[\u001b[0m\u001b[0mposition\u001b[0m\u001b[0;34m]\u001b[0m \u001b[0;34m==\u001b[0m \u001b[0;34m\" \"\u001b[0m\u001b[0;34m:\u001b[0m\u001b[0;34m\u001b[0m\u001b[0;34m\u001b[0m\u001b[0m\n\u001b[0m\u001b[1;32m      5\u001b[0m         \u001b[0;32mreturn\u001b[0m \u001b[0;32mTrue\u001b[0m\u001b[0;34m\u001b[0m\u001b[0;34m\u001b[0m\u001b[0m\n\u001b[1;32m      6\u001b[0m     \u001b[0;32melse\u001b[0m\u001b[0;34m:\u001b[0m\u001b[0;34m\u001b[0m\u001b[0;34m\u001b[0m\u001b[0m\n",
      "\u001b[0;31mIndexError\u001b[0m: list index out of range"
     ]
    }
   ],
   "source": [
    "print(\"Welcome to Tic Tac Toe: \")\n",
    "test_board = ['#',' ',' ',' ',' ',' ',' ',' ',' ',' ']\n",
    "player1Icon = player_input()\n",
    "if player1Icon == 'X':\n",
    "    player2Icon = 'O'\n",
    "else:\n",
    "    player2Icon = 'X'\n",
    "display_game(test_board)\n",
    "playerWon = False\n",
    "while full_board_check(test_board) == False and (playerWon == False):\n",
    "    player1Choice = player_choice(test_board)\n",
    "    if space_check(test_board,player1Choice) == True:\n",
    "        place_marker(test_board, player1Icon, player1Choice)\n",
    "        display_game(test_board)\n",
    "        if win_check(test_board, player1Icon) == True:\n",
    "            playerWon = True\n",
    "    player2Choice = player_choice(test_board)\n",
    "    if space_check(test_board,player2Choice) == True:\n",
    "        place_marker(test_board, player2Icon, player2Choice)\n",
    "        display_game(test_board)\n",
    "        if win_check(test_board, player2Icon) == True:\n",
    "            playerWon = True   \n",
    "        "
   ]
  },
  {
   "cell_type": "code",
   "execution_count": 19,
   "id": "719b82d3",
   "metadata": {},
   "outputs": [
    {
     "name": "stdout",
     "output_type": "stream",
     "text": [
      " | |X\n",
      "-----\n",
      " |X| \n",
      "-----\n",
      "X| | \n",
      "Congradulations you have won the game!\n"
     ]
    },
    {
     "data": {
      "text/plain": [
       "True"
      ]
     },
     "execution_count": 19,
     "metadata": {},
     "output_type": "execute_result"
    }
   ],
   "source": [
    "test_board = ['#','X',' ',' ',' ','X',' ',' ',' ','X']\n",
    "display_game(test_board)\n",
    "win_check(test_board, 'X')"
   ]
  },
  {
   "cell_type": "code",
   "execution_count": null,
   "id": "3e3709ee",
   "metadata": {},
   "outputs": [],
   "source": []
  }
 ],
 "metadata": {
  "kernelspec": {
   "display_name": "Python 3",
   "language": "python",
   "name": "python3"
  },
  "language_info": {
   "codemirror_mode": {
    "name": "ipython",
    "version": 3
   },
   "file_extension": ".py",
   "mimetype": "text/x-python",
   "name": "python",
   "nbconvert_exporter": "python",
   "pygments_lexer": "ipython3",
   "version": "3.8.8"
  }
 },
 "nbformat": 4,
 "nbformat_minor": 5
}
